{
  "nbformat": 4,
  "nbformat_minor": 0,
  "metadata": {
    "kernelspec": {
      "display_name": "Python 3",
      "language": "python",
      "name": "python3"
    },
    "language_info": {
      "codemirror_mode": {
        "name": "ipython",
        "version": 3
      },
      "file_extension": ".py",
      "mimetype": "text/x-python",
      "name": "python",
      "nbconvert_exporter": "python",
      "pygments_lexer": "ipython3",
      "version": "3.8.5"
    },
    "colab": {
      "name": "Constraint Satisfaction Problems - EN2.ipynb",
      "provenance": [],
      "toc_visible": true,
      "include_colab_link": true
    }
  },
  "cells": [
    {
      "cell_type": "markdown",
      "metadata": {
        "id": "view-in-github",
        "colab_type": "text"
      },
      "source": [
        "<a href=\"https://colab.research.google.com/github/SHIMAALSHREEF/H/blob/main/Constraint_Satisfaction_Problems_EN2.ipynb\" target=\"_parent\"><img src=\"https://colab.research.google.com/assets/colab-badge.svg\" alt=\"Open In Colab\"/></a>"
      ]
    },
    {
      "cell_type": "markdown",
      "metadata": {
        "id": "DW3wUPtrivqt"
      },
      "source": [
        "# Constraint Satisfaction Problems"
      ]
    },
    {
      "cell_type": "markdown",
      "metadata": {
        "id": "D7Cak85tivqv"
      },
      "source": [
        "## Introduction\n",
        "Suppose a Sudoku game filled initially with some numbers in some squares, and you want to fill the empty squares with numbers in the range from 1 to 9 which there is no row, column or block has a number repeating itself. This is a simple way to understand the constraint satisfaction problems, as you are supposed to solve a problem with some constraints, then the remaining empty squares which have to be filled called \"variables\", and the range of numbers (1-9) called a \"domain\", simply the variables take on values from the domain, the conditions governing how a variable will choose its domain are called \"constraints\".\n",
        "\n",
        "A constraint satisfaction problem (CSP) is a problem that has to be solved within some constraints or conditions. It consists of the following:\n",
        "\n",
        "- A finite set of variables that store the solution (V = {V1, V2, V3,....., Vn})\n",
        "- A set of values known as the domain from which the solution is picked (D = {D1, D2, D3,.....,Dn})\n",
        "- A finite set of constraints (C = {C1, C2, C3,......, Cn})\n",
        "\n",
        "##### Here are some of the popular problems that can be solved using CSP:\n",
        "\n",
        "- n-Queen (In an n-queen problem, n queens should be placed in an nXn matrix such that no queen shares the same row, column or diagonal.)\n",
        "- Map Coloring (colouring different regions of map, ensuring no adjacent regions have the same colour)\n",
        "- Crossword (everyday puzzles appearing in newspapers)\n",
        "- Sudoku (a number grid)\n",
        "- Latin Square Problem\n",
        "\n",
        "##### To convert the problem to CSP take the following steps:\n",
        "\n",
        "- Create a variable set.\n",
        "- Create a domain set.\n",
        "- Create a constraint set with variables and domains \n",
        "- Find an optimal solution.\n",
        "\n"
      ]
    },
    {
      "cell_type": "markdown",
      "metadata": {
        "id": "YoxT_2umivqx"
      },
      "source": [
        "## N-Queens Problem\n",
        "N-Queens problem is to place or locate (n) numbers of queens (queen in chessboard) in such a manner on an n x n chessboard that no queen can attack any another queen through being in the same row, column or diagonal.\n",
        "\n",
        "![image-5.png](attachment:image-5.png)\n"
      ]
    },
    {
      "cell_type": "markdown",
      "metadata": {
        "id": "BvjKjUrgivqx"
      },
      "source": [
        "We can represent the board as a matrix as follows"
      ]
    },
    {
      "cell_type": "code",
      "metadata": {
        "id": "owJKPx-vivqy"
      },
      "source": [
        "chessboardEmpty = [[0, 0, 0, 0], [0, 0, 0, 0],[0, 0, 0, 0],[0, 0, 0, 0]]"
      ],
      "execution_count": null,
      "outputs": []
    },
    {
      "cell_type": "code",
      "metadata": {
        "id": "WJ7sTx0Tivqy",
        "outputId": "6357069f-3db7-4966-d6b5-bc0b41d33a35"
      },
      "source": [
        "print(chessboardEmpty)"
      ],
      "execution_count": null,
      "outputs": [
        {
          "output_type": "stream",
          "text": [
            "[[0, 0, 0, 0], [0, 0, 0, 0], [0, 0, 0, 0], [0, 0, 0, 0]]\n"
          ],
          "name": "stdout"
        }
      ]
    },
    {
      "cell_type": "code",
      "metadata": {
        "id": "Y6_tOr1Wivqz"
      },
      "source": [
        "chessboardSolved = [[0, 0, 1, 0], [1, 0, 0, 0],[0, 0, 0, 1],[0, 1, 0, 0]]"
      ],
      "execution_count": null,
      "outputs": []
    },
    {
      "cell_type": "code",
      "metadata": {
        "id": "J50cgOcrivq0",
        "outputId": "9617669d-226d-45a3-dd10-12e0e82a8efa"
      },
      "source": [
        "print(chessboardSolved)"
      ],
      "execution_count": null,
      "outputs": [
        {
          "output_type": "stream",
          "text": [
            "[[0, 0, 1, 0], [1, 0, 0, 0], [0, 0, 0, 1], [0, 1, 0, 0]]\n"
          ],
          "name": "stdout"
        }
      ]
    },
    {
      "cell_type": "markdown",
      "metadata": {
        "id": "8BUi6Deiivq0"
      },
      "source": [
        "## Arc Consistancy AC-3\n",
        "AC-3 algorithm is used as a preprocess step, where AC-3 detects conflicts that you will have in attributions, during the implementation, and deletes them.\n",
        "By cutting the domains of the variables in the CSP. So when two variables share a restriction we say that there's an arc between both. You say that the arc between A and B is consistent if:\n",
        "- A->B is consistent: foreach value a that A can take there's a value b that B can take respecting the restriction.\n",
        "- B->A is consistent: foreach value b that B can take there's a value a that A can take respecting the restriction."
      ]
    },
    {
      "cell_type": "markdown",
      "metadata": {
        "id": "oqE0Umj5ivq1"
      },
      "source": [
        "## Backtracking with AC-3\n",
        "The main concept of Backtrack algorithm is to solving problems recursively by trying to build a solution incrementally, one piece at a time\n",
        "\n",
        "#### Implementation\n",
        "to implement the algorithm, we will do the following procedures: \n",
        "1. Start in at the first left column\n",
        "2. If all queens are placed return true\n",
        "3. Try all rows in the current column. \n",
        "   Do the following procedures for every tried row.\n",
        "    a. If the queen can be placed safely in this row then mark this [row, column] as part of the solution and recursively check if placing queen here leads to a solution.\n",
        "    b. If placing the queen in [row, column] leads to a solution then return true.\n",
        "    c. If placing queen doesn't lead to a solution then unmark this [row, column] (Backtrack) and go to step (a) to try other rows.\n",
        "3. If all rows have been tried and nothing worked, return false to trigger backtracking."
      ]
    },
    {
      "cell_type": "markdown",
      "metadata": {
        "id": "ZGCmPu7Rivq2"
      },
      "source": [
        "#### Applying the algorithm on the problem"
      ]
    },
    {
      "cell_type": "code",
      "metadata": {
        "id": "MH-T99dYivq2"
      },
      "source": [
        "# The number of N which could be 4,8,16,....\n",
        "# Queen_Number = 4"
      ],
      "execution_count": null,
      "outputs": []
    },
    {
      "cell_type": "code",
      "metadata": {
        "id": "WFQCJaAJivq2"
      },
      "source": [
        "def isAvliable(chessboard, row, col, Queen_Number):\n",
        "  \n",
        "    # Check the row on right side\n",
        "    for x in range(col):\n",
        "        if chessboard[row][x] == 'X':\n",
        "            return False\n",
        "  \n",
        "    # Check upper diagonal on left side\n",
        "    for x, y in zip(range(row, -1, -1), \n",
        "                    range(col, -1, -1)):\n",
        "        if chessboard[x][y] == 'X':\n",
        "            return False\n",
        "  \n",
        "    # Check lower diagonal on right side\n",
        "    for x, y in zip(range(row, Queen_Number, 1), \n",
        "                    range(col, -1, -1)):\n",
        "        if chessboard[x][y] == 'X':\n",
        "            return False\n",
        "  \n",
        "    return True"
      ],
      "execution_count": null,
      "outputs": []
    },
    {
      "cell_type": "code",
      "metadata": {
        "id": "bko9qdC8ivq3"
      },
      "source": [
        "# Simple Bactrack function to solve N-Queen\n",
        "def FindSolution(chessboard, col, Queen_Number):\n",
        "      \n",
        "    # If all queens are placed then return true\n",
        "    if col >= Queen_Number:\n",
        "        return True\n",
        "  \n",
        "    # Else it will begin placing this queen in all rows one by one\n",
        "    for x in range(Queen_Number):\n",
        "  \n",
        "        if isAvliable(chessboard, x, col , Queen_Number):\n",
        "              \n",
        "            # Place this queen in chessboard[x][col]\n",
        "            chessboard[x][col] = 'X'\n",
        "  \n",
        "            # recur to place rest of the queens\n",
        "            if FindSolution(chessboard, col + 1, Queen_Number) == True:\n",
        "                return True\n",
        "  \n",
        "            # If placing queen in chessboard[x][col\n",
        "            # doesn't lead to a solution, then\n",
        "            # queen from chessboard[x][col]\n",
        "            chessboard[x][col] = 0\n",
        "  \n",
        "    # if the queen can not be placed in any row in\n",
        "    # this colum col then return false\n",
        "    return False"
      ],
      "execution_count": null,
      "outputs": []
    },
    {
      "cell_type": "markdown",
      "metadata": {
        "id": "_F-EXclvivq4"
      },
      "source": [
        "###### The following function is to print if no solution found "
      ]
    },
    {
      "cell_type": "code",
      "metadata": {
        "id": "DJpULVtMivq4"
      },
      "source": [
        "def findSolution_N_Queen(chessboard1,Queen_Number):\n",
        "    if FindSolution(chessboard1, 0 , Queen_Number) == False:\n",
        "        print (\"Solution does not exist\")\n",
        "        return False\n",
        "  \n",
        "    print(chessboard1)\n",
        "    return True"
      ],
      "execution_count": null,
      "outputs": []
    },
    {
      "cell_type": "markdown",
      "metadata": {
        "id": "av4u1TH1ivq5"
      },
      "source": [
        "#### Output"
      ]
    },
    {
      "cell_type": "code",
      "metadata": {
        "id": "USqHXDXTivq5",
        "outputId": "3fc319b4-2d25-448a-8866-7a1cc9e97a2d"
      },
      "source": [
        "Queen_Number = 4\n",
        "chessboard = [ [0, 0, 0, 0],[0, 0, 0, 0],[0, 0, 0, 0],[0, 0, 0, 0] ]\n",
        "findSolution_N_Queen(chessboard, Queen_Number)"
      ],
      "execution_count": null,
      "outputs": [
        {
          "output_type": "stream",
          "text": [
            "[[0, 0, 'X', 0], ['X', 0, 0, 0], [0, 0, 0, 'X'], [0, 'X', 0, 0]]\n"
          ],
          "name": "stdout"
        },
        {
          "output_type": "execute_result",
          "data": {
            "text/plain": [
              "True"
            ]
          },
          "metadata": {
            "tags": []
          },
          "execution_count": 9
        }
      ]
    },
    {
      "cell_type": "markdown",
      "metadata": {
        "id": "sJcbDuMWivq5"
      },
      "source": [
        "#### Testing the algorithm on several sample\n",
        "now lets try to solve 8-queens problem!"
      ]
    },
    {
      "cell_type": "code",
      "metadata": {
        "id": "S9KY5bs2ivq6",
        "outputId": "a5aeaa2b-958d-4da2-9e76-36a81dbf97ef"
      },
      "source": [
        "Queen_Number = 8\n",
        "chessboard = [[0,0,0,0,0,0,0,0],\n",
        "              [0,0,0,0,0,0,0,0],\n",
        "              [0,0,0,0,0,0,0,0],\n",
        "              [0,0,0,0,0,0,0,0],\n",
        "              [0,0,0,0,0,0,0,0],\n",
        "              [0,0,0,0,0,0,0,0],\n",
        "              [0,0,0,0,0,0,0,0],\n",
        "              [0,0,0,0,0,0,0,0]]\n",
        "findSolution_N_Queen(chessboard, Queen_Number)"
      ],
      "execution_count": null,
      "outputs": [
        {
          "output_type": "stream",
          "text": [
            "[['X', 0, 0, 0, 0, 0, 0, 0], [0, 0, 0, 0, 0, 0, 'X', 0], [0, 0, 0, 0, 'X', 0, 0, 0], [0, 0, 0, 0, 0, 0, 0, 'X'], [0, 'X', 0, 0, 0, 0, 0, 0], [0, 0, 0, 'X', 0, 0, 0, 0], [0, 0, 0, 0, 0, 'X', 0, 0], [0, 0, 'X', 0, 0, 0, 0, 0]]\n"
          ],
          "name": "stdout"
        },
        {
          "output_type": "execute_result",
          "data": {
            "text/plain": [
              "True"
            ]
          },
          "metadata": {
            "tags": []
          },
          "execution_count": 10
        }
      ]
    },
    {
      "cell_type": "markdown",
      "metadata": {
        "id": "DZyy86AWivq6"
      },
      "source": [
        "Now lets try to solve 16-queens problem!"
      ]
    },
    {
      "cell_type": "code",
      "metadata": {
        "id": "amCvmgfCivq6",
        "outputId": "e9fb773c-2a83-4b95-9f3d-9fd7225d147d"
      },
      "source": [
        "Queen_Number = 16\n",
        "chessboard = [[0,0,0,0,0,0,0,0,0,0,0,0,0,0,0,0],[0,0,0,0,0,0,0,0,0,0,0,0,0,0,0,0],\n",
        "              [0,0,0,0,0,0,0,0,0,0,0,0,0,0,0,0],[0,0,0,0,0,0,0,0,0,0,0,0,0,0,0,0],\n",
        "              [0,0,0,0,0,0,0,0,0,0,0,0,0,0,0,0],[0,0,0,0,0,0,0,0,0,0,0,0,0,0,0,0],\n",
        "              [0,0,0,0,0,0,0,0,0,0,0,0,0,0,0,0],[0,0,0,0,0,0,0,0,0,0,0,0,0,0,0,0],\n",
        "              [0,0,0,0,0,0,0,0,0,0,0,0,0,0,0,0],[0,0,0,0,0,0,0,0,0,0,0,0,0,0,0,0],\n",
        "              [0,0,0,0,0,0,0,0,0,0,0,0,0,0,0,0],[0,0,0,0,0,0,0,0,0,0,0,0,0,0,0,0],\n",
        "              [0,0,0,0,0,0,0,0,0,0,0,0,0,0,0,0],[0,0,0,0,0,0,0,0,0,0,0,0,0,0,0,0],\n",
        "              [0,0,0,0,0,0,0,0,0,0,0,0,0,0,0,0],[0,0,0,0,0,0,0,0,0,0,0,0,0,0,0,0]]\n",
        "findSolution_N_Queen(chessboard, Queen_Number)"
      ],
      "execution_count": null,
      "outputs": [
        {
          "output_type": "stream",
          "text": [
            "[['X', 0, 0, 0, 0, 0, 0, 0, 0, 0, 0, 0, 0, 0, 0, 0], [0, 0, 0, 'X', 0, 0, 0, 0, 0, 0, 0, 0, 0, 0, 0, 0], [0, 'X', 0, 0, 0, 0, 0, 0, 0, 0, 0, 0, 0, 0, 0, 0], [0, 0, 0, 0, 0, 0, 0, 0, 0, 0, 0, 0, 'X', 0, 0, 0], [0, 0, 'X', 0, 0, 0, 0, 0, 0, 0, 0, 0, 0, 0, 0, 0], [0, 0, 0, 0, 0, 0, 0, 0, 0, 'X', 0, 0, 0, 0, 0, 0], [0, 0, 0, 0, 0, 0, 0, 0, 0, 0, 0, 'X', 0, 0, 0, 0], [0, 0, 0, 0, 0, 0, 0, 0, 0, 0, 0, 0, 0, 0, 'X', 0], [0, 0, 0, 0, 0, 'X', 0, 0, 0, 0, 0, 0, 0, 0, 0, 0], [0, 0, 0, 0, 0, 0, 0, 0, 0, 0, 0, 0, 0, 0, 0, 'X'], [0, 0, 0, 0, 0, 0, 0, 0, 0, 0, 0, 0, 0, 'X', 0, 0], [0, 0, 0, 0, 0, 0, 0, 'X', 0, 0, 0, 0, 0, 0, 0, 0], [0, 0, 0, 0, 'X', 0, 0, 0, 0, 0, 0, 0, 0, 0, 0, 0], [0, 0, 0, 0, 0, 0, 'X', 0, 0, 0, 0, 0, 0, 0, 0, 0], [0, 0, 0, 0, 0, 0, 0, 0, 'X', 0, 0, 0, 0, 0, 0, 0], [0, 0, 0, 0, 0, 0, 0, 0, 0, 0, 'X', 0, 0, 0, 0, 0]]\n"
          ],
          "name": "stdout"
        },
        {
          "output_type": "execute_result",
          "data": {
            "text/plain": [
              "True"
            ]
          },
          "metadata": {
            "tags": []
          },
          "execution_count": 11
        }
      ]
    },
    {
      "cell_type": "markdown",
      "metadata": {
        "id": "nVZMT-W4ivq7"
      },
      "source": [
        "# Comparison of algorithm’s performance\n",
        "\n",
        "For N number of queens, the complexity equals n when using AC-3 because there is no recursion, while backtracking using recursion style then the number of checking inside the loop equals n^2.\n",
        "\t\t\n",
        "![image-2.png](attachment:image-2.png)"
      ]
    },
    {
      "cell_type": "markdown",
      "metadata": {
        "id": "wdbLxmzvivq7"
      },
      "source": [
        "## References and resources"
      ]
    },
    {
      "cell_type": "markdown",
      "metadata": {
        "id": "YCfqrx-Yivq8"
      },
      "source": [
        "1. https://study.com/academy/lesson/constraint-satisfaction-problems-definition-examples.html\n",
        "2. https://en.wikipedia.org/wiki/Constraint_satisfaction_problem#:~:text=Constraint%20satisfaction%20problems%20(CSPs)%20are,number%20of%20constraints%20or%20limitations.&text=CSPs%20often%20exhibit%20high%20complexity,solved%20in%20a%20reasonable%20time.\n",
        "3. https://www.youtube.com/watch?v=lCrHYT_EhDs\n",
        "4. https://www.geeksforgeeks.org/n-queen-problem-backtracking-3/\n",
        "5. https://en.wikipedia.org/wiki/AC-3_algorithm\n",
        "6. https://www.sciencedirect.com/topics/computer-science/arc-consistency\n",
        "7. https://www.sciencedirect.com/topics/computer-science/arc-consistency-algorithm\n",
        "8. https://link.springer.com/article/10.1023/A:1011096320004\n",
        "9. https://github.com/BartekH/CSP\n",
        "10. https://www.youtube.com/watch?v=-47nFq_9_zk\n",
        "11. https://www.researchgate.net/figure/A-solution-of-the-6-queens-problem-As-an-example-let-us-consider-the-6-queens-problem_fig1_221787117"
      ]
    }
  ]
}