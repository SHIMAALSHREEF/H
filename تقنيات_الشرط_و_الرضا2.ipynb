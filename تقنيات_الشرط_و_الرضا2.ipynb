{
  "nbformat": 4,
  "nbformat_minor": 0,
  "metadata": {
    "kernelspec": {
      "display_name": "Python 3",
      "language": "python",
      "name": "python3"
    },
    "language_info": {
      "codemirror_mode": {
        "name": "ipython",
        "version": 3
      },
      "file_extension": ".py",
      "mimetype": "text/x-python",
      "name": "python",
      "nbconvert_exporter": "python",
      "pygments_lexer": "ipython3",
      "version": "3.8.5"
    },
    "colab": {
      "name": "تقنيات الشرط و الرضا2.ipynb",
      "provenance": [],
      "toc_visible": true,
      "include_colab_link": true
    }
  },
  "cells": [
    {
      "cell_type": "markdown",
      "metadata": {
        "id": "view-in-github",
        "colab_type": "text"
      },
      "source": [
        "<a href=\"https://colab.research.google.com/github/SHIMAALSHREEF/H/blob/main/%D8%AA%D9%82%D9%86%D9%8A%D8%A7%D8%AA_%D8%A7%D9%84%D8%B4%D8%B1%D8%B7_%D9%88_%D8%A7%D9%84%D8%B1%D8%B6%D8%A72.ipynb\" target=\"_parent\"><img src=\"https://colab.research.google.com/assets/colab-badge.svg\" alt=\"Open In Colab\"/></a>"
      ]
    },
    {
      "cell_type": "markdown",
      "metadata": {
        "id": "6mwIJJk5i1Mf"
      },
      "source": [
        "# تقنيات الشرط و الرضا"
      ]
    },
    {
      "cell_type": "markdown",
      "metadata": {
        "id": "b5VR9AJGi1Mj"
      },
      "source": [
        "## مقدمة\n",
        "لنفترض أن لعبة Sudoku مملوءة في البداية ببعض الأرقام في بعض المربعات ، وتريد ملء المربعات الفارغة بأرقام في النطاق من 1 إلى 9 حيث لا يوجد صف أو عمود أو كتلة بها رقم يعيد نفسه. هذه طريقة بسيطة لفهم مشاكل رضا القيد ، حيث من المفترض أن تحل مشكلة مع بعض القيود ، ثم المربعات الفارغة المتبقية التي يجب ملؤها تسمى \"المتغيرات\" ، ونطاق الأرقام (1-9) يسمى \"المجال\" ، ببساطة تأخذ المتغيرات قيمًا من المجال ، وتسمى الشروط التي تحكم كيفية اختيار المتغير مجاله \"قيود\".\n",
        "\n",
        "توجد قيود في معظم مجالات الحياة ، وهي وسيلة طبيعية للناس للتعبير عن مشاكلهم في حياتهم ، على سبيل المثال ، إذا كنت ترغب في دخول السينما فعليك دفع ثمن تذكرة الدخول حتى نتمكن منمشكلة رضا القيد (CSP) هي مشكلة يجب حلها ضمن بعض القيود أو الشروط. وتتكون مما يلي:\n",
        "\n",
        "- مجموعة محدودة من المتغيرات التي تخزن الحل (V = {V1، V2، V3، .....، Vn})\n",
        "- مجموعة من القيم تعرف بالمجال الذي يتم اختيار الحل منه (D = {D1، D2، D3، .....، Dn})\n",
        "- مجموعة محدودة من القيود (C = {C1، C2، C3، ......، Cn})\n",
        "\n",
        "##### فيما يلي بعض المشكلات الشائعة التي يمكن حلها باستخدام:\n",
        "\n",
        "- n-Queen (في مسألة n-queen ، يجب وضع n queens في مصفوفة nXn بحيث لا تشترك ملكة في نفس الصف أو العمود أو القطر.)\n",
        "- تلوين الخريطة (تلوين مناطق مختلفة من الخريطة ، مما يضمن عدم وجود مناطق متجاورة لها نفس اللون)\n",
        "- الكلمات المتقاطعة (الألغاز اليومية تظهر في الصحف)\n",
        "- سودوكو (شبكة أرقام)\n",
        "- مشكلة المربعات اللاتينية\n",
        "\n",
        "##### لتحويل المشكلة الى نموذج الشرط و الرضا اتبع الخطوات التالية:\n",
        "\n",
        "- إنشاء مجموعة متغيرة.\n",
        "- إنشاء مجموعة المجال.\n",
        "- إنشاء مجموعة قيود مع المتغيرات والمجالات\n",
        "- ابحث عن الحل الأمثل.\n"
      ]
    },
    {
      "cell_type": "markdown",
      "metadata": {
        "id": "WdJ2IIS3i1Mk"
      },
      "source": [
        "## مشكلة الملكات\n",
        "تتمثل مشكلة الملكات في وضع أو تحديد موقع عدد من الملكات (ملكة في رقعة الشطرنج) بطريقة لا يمكن لأي ملكة مهاجمة أي ملكة أخرى من خلال التواجد في نفس الصف أو العمود أو القطر.\n",
        "\n",
        "![image-5.png](attachment:image-5.png)"
      ]
    },
    {
      "cell_type": "markdown",
      "metadata": {
        "id": "Nb8qPigIi1Ml"
      },
      "source": [
        "يمكننا تمثيل اللوحة كمصفوفة على النحو التالي"
      ]
    },
    {
      "cell_type": "code",
      "metadata": {
        "id": "MJQ00GDxi1Ml"
      },
      "source": [
        "chessboardEmpty = [[0, 0, 0, 0], [0, 0, 0, 0],[0, 0, 0, 0],[0, 0, 0, 0]]"
      ],
      "execution_count": null,
      "outputs": []
    },
    {
      "cell_type": "code",
      "metadata": {
        "id": "JBaLQ9q7i1Mm",
        "outputId": "bceeec46-bad4-446c-cd29-dd39c0ba601a"
      },
      "source": [
        "print(chessboardEmpty)"
      ],
      "execution_count": null,
      "outputs": [
        {
          "output_type": "stream",
          "text": [
            "[[0, 0, 0, 0], [0, 0, 0, 0], [0, 0, 0, 0], [0, 0, 0, 0]]\n"
          ],
          "name": "stdout"
        }
      ]
    },
    {
      "cell_type": "code",
      "metadata": {
        "id": "0jGwMWQ8i1Mn"
      },
      "source": [
        "chessboardSolved = [[0, 0, 1, 0], [1, 0, 0, 0],[0, 0, 0, 1],[0, 1, 0, 0]]"
      ],
      "execution_count": null,
      "outputs": []
    },
    {
      "cell_type": "code",
      "metadata": {
        "id": "-AF7l7sZi1Mo",
        "outputId": "d2125b78-da42-45fe-aeb6-014f565691a2"
      },
      "source": [
        "print(chessboardSolved)"
      ],
      "execution_count": null,
      "outputs": [
        {
          "output_type": "stream",
          "text": [
            "[[0, 0, 1, 0], [1, 0, 0, 0], [0, 0, 0, 1], [0, 1, 0, 0]]\n"
          ],
          "name": "stdout"
        }
      ]
    },
    {
      "cell_type": "markdown",
      "metadata": {
        "id": "OrUAsi1qi1Mo"
      },
      "source": [
        "## Arc Consistancy AC-3 - الازواج المتناسقة\n",
        "يتم استخدام الخوارزمية كخطوة معالجة مسبقة ، حيث يكتشف التعارضات التي ستحدث في السمات ، أثناء التنفيذ ، ويحذفها.\n",
        "عن طريق قطع مجالات المتغيرات في النموذج. لذلك عندما يشترك متغيرين في التقييد ، نقول إن هناك قوسًا بينهما. أنت تقول أن القوس بين  المتغيرات ثابت إذا:\n",
        "- A-> B متسقة: لكل قيمة يمكن أن تأخذها A هناك قيمة b يمكن أن يأخذها B مع احترام القيد.\n",
        "- B-> A متسق: لكل قيمة b التي يمكن أن يأخذها B هناك قيمة a يمكن أن يأخذها A مع احترام القيد."
      ]
    },
    {
      "cell_type": "markdown",
      "metadata": {
        "id": "j0unOjaCi1Mp"
      },
      "source": [
        "## Backtracking with AC-3 - الازواج المتناسقة مع التكرار العكسي\n",
        "يتمثل المفهوم الرئيسي للخوارزمية في حل المشكلات بشكل متكرر من خلال محاولة بناء حل بشكل تدريجي ، قطعة واحدة في كل مرة\n",
        "\n",
        "#### التطبيق\n",
        "لتنفيذ الخوارزمية ، سنقوم بالإجراءات التالية:\n",
        "1. ابدأ في العمود الأيسر الأول\n",
        "2. إذا تم وضع كل الملكات فارجع صحيحًا\n",
        "3. جرب كل الصفوف في العمود الحالي.\n",
        "    قم بالإجراءات التالية لكل صف تم تجربته.\n",
        "     أ. إذا كان من الممكن وضع الملكة بأمان في هذا الصف ، فقم بتمييز هذا [الصف ، العمود] كجزء من الحل وتحقق بشكل متكرر مما إذا كان وضع الملكة هنا يؤدي إلى حل.\n",
        "     ب. إذا كان وضع الملكة في [صف ، عمود] يؤدي إلى حل ، فعندئذٍ يعود صحيحًا.\n",
        "     ج. إذا لم يؤد وضع الملكة إلى حل ، فقم بإلغاء تحديد هذا [الصف ، العمود] (تراجع) وانتقل إلى الخطوة (أ) لتجربة صفوف أخرى.\n",
        "3. إذا تمت تجربة جميع الصفوف ولم ينجح شيء ، فقم بإرجاع القيمة (خطأ) لبدء التراجع."
      ]
    },
    {
      "cell_type": "markdown",
      "metadata": {
        "id": "p04a9MDUi1Mq"
      },
      "source": [
        "#### تطبيق الخوارزمية على المشكلة"
      ]
    },
    {
      "cell_type": "code",
      "metadata": {
        "id": "AEKvAgGKi1Mq"
      },
      "source": [
        "# The number of N which could be 4,8,16,....\n",
        "# Queen_Number = 4"
      ],
      "execution_count": null,
      "outputs": []
    },
    {
      "cell_type": "code",
      "metadata": {
        "id": "lLaK8Y10i1Mr"
      },
      "source": [
        "def isAvliable(chessboard, row, col, Queen_Number):\n",
        "  \n",
        "    # Check the row on right side\n",
        "    for x in range(col):\n",
        "        if chessboard[row][x] == 'X':\n",
        "            return False\n",
        "  \n",
        "    # Check upper diagonal on left side\n",
        "    for x, y in zip(range(row, -1, -1), \n",
        "                    range(col, -1, -1)):\n",
        "        if chessboard[x][y] == 'X':\n",
        "            return False\n",
        "  \n",
        "    # Check lower diagonal on right side\n",
        "    for x, y in zip(range(row, Queen_Number, 1), \n",
        "                    range(col, -1, -1)):\n",
        "        if chessboard[x][y] == 'X':\n",
        "            return False\n",
        "  \n",
        "    return True"
      ],
      "execution_count": null,
      "outputs": []
    },
    {
      "cell_type": "code",
      "metadata": {
        "id": "-81YKDS5i1Mr"
      },
      "source": [
        "# Simple Bactrack function to solve N-Queen\n",
        "def FindSolution(chessboard, col, Queen_Number):\n",
        "      \n",
        "    # If all queens are placed then return true\n",
        "    if col >= Queen_Number:\n",
        "        return True\n",
        "  \n",
        "    # Else it will begin placing this queen in all rows one by one\n",
        "    for x in range(Queen_Number):\n",
        "  \n",
        "        if isAvliable(chessboard, x, col , Queen_Number):\n",
        "              \n",
        "            # Place this queen in chessboard[x][col]\n",
        "            chessboard[x][col] = 'X'\n",
        "  \n",
        "            # recur to place rest of the queens\n",
        "            if FindSolution(chessboard, col + 1, Queen_Number) == True:\n",
        "                return True\n",
        "  \n",
        "            # If placing queen in chessboard[x][col\n",
        "            # doesn't lead to a solution, then\n",
        "            # queen from chessboard[x][col]\n",
        "            chessboard[x][col] = 0\n",
        "  \n",
        "    # if the queen can not be placed in any row in\n",
        "    # this colum col then return false\n",
        "    return False"
      ],
      "execution_count": null,
      "outputs": []
    },
    {
      "cell_type": "markdown",
      "metadata": {
        "id": "G5kTCd_si1Ms"
      },
      "source": [
        "###### الدالة التالية هي لطباعة المصفوفة"
      ]
    },
    {
      "cell_type": "code",
      "metadata": {
        "id": "DikafbGii1Ms"
      },
      "source": [
        "def findSolution_N_Queen(chessboard1,Queen_Number):\n",
        "    if FindSolution(chessboard1, 0 , Queen_Number) == False:\n",
        "        print (\"Solution does not exist\")\n",
        "        return False\n",
        "  \n",
        "    print(chessboard1)\n",
        "    return True"
      ],
      "execution_count": null,
      "outputs": []
    },
    {
      "cell_type": "markdown",
      "metadata": {
        "id": "-l2eZ167i1Mt"
      },
      "source": [
        "#### المخرجات"
      ]
    },
    {
      "cell_type": "code",
      "metadata": {
        "id": "UIhgqXIGi1Mt",
        "outputId": "89969b53-e5ad-45a7-bf46-9911d74b8976"
      },
      "source": [
        "Queen_Number = 4\n",
        "chessboard = [ [0, 0, 0, 0],[0, 0, 0, 0],[0, 0, 0, 0],[0, 0, 0, 0] ]\n",
        "findSolution_N_Queen(chessboard, Queen_Number)"
      ],
      "execution_count": null,
      "outputs": [
        {
          "output_type": "stream",
          "text": [
            "[[0, 0, 'X', 0], ['X', 0, 0, 0], [0, 0, 0, 'X'], [0, 'X', 0, 0]]\n"
          ],
          "name": "stdout"
        },
        {
          "output_type": "execute_result",
          "data": {
            "text/plain": [
              "True"
            ]
          },
          "metadata": {
            "tags": []
          },
          "execution_count": 9
        }
      ]
    },
    {
      "cell_type": "markdown",
      "metadata": {
        "id": "3AW_1n7Ti1Mt"
      },
      "source": [
        "#### تجربة الخوارزمية على عدد اخر من الملكات\n",
        "لنجرب الحل على 8 ملكات"
      ]
    },
    {
      "cell_type": "code",
      "metadata": {
        "id": "y9iK98Vdi1Mu",
        "outputId": "22b7df93-deea-4ee9-abac-395b1b8249cc"
      },
      "source": [
        "Queen_Number = 8\n",
        "chessboard = [[0,0,0,0,0,0,0,0],\n",
        "              [0,0,0,0,0,0,0,0],\n",
        "              [0,0,0,0,0,0,0,0],\n",
        "              [0,0,0,0,0,0,0,0],\n",
        "              [0,0,0,0,0,0,0,0],\n",
        "              [0,0,0,0,0,0,0,0],\n",
        "              [0,0,0,0,0,0,0,0],\n",
        "              [0,0,0,0,0,0,0,0]]\n",
        "findSolution_N_Queen(chessboard, Queen_Number)"
      ],
      "execution_count": null,
      "outputs": [
        {
          "output_type": "stream",
          "text": [
            "[['X', 0, 0, 0, 0, 0, 0, 0], [0, 0, 0, 0, 0, 0, 'X', 0], [0, 0, 0, 0, 'X', 0, 0, 0], [0, 0, 0, 0, 0, 0, 0, 'X'], [0, 'X', 0, 0, 0, 0, 0, 0], [0, 0, 0, 'X', 0, 0, 0, 0], [0, 0, 0, 0, 0, 'X', 0, 0], [0, 0, 'X', 0, 0, 0, 0, 0]]\n"
          ],
          "name": "stdout"
        },
        {
          "output_type": "execute_result",
          "data": {
            "text/plain": [
              "True"
            ]
          },
          "metadata": {
            "tags": []
          },
          "execution_count": 10
        }
      ]
    },
    {
      "cell_type": "markdown",
      "metadata": {
        "id": "PXBxrVF3i1Mu"
      },
      "source": [
        "لنجرب الحل على 16 ملكة"
      ]
    },
    {
      "cell_type": "code",
      "metadata": {
        "id": "miKKow0ci1Mu",
        "outputId": "cde3040f-a028-4519-82ed-45c4a5b585b7"
      },
      "source": [
        "Queen_Number = 16\n",
        "chessboard = [[0,0,0,0,0,0,0,0,0,0,0,0,0,0,0,0],[0,0,0,0,0,0,0,0,0,0,0,0,0,0,0,0],\n",
        "              [0,0,0,0,0,0,0,0,0,0,0,0,0,0,0,0],[0,0,0,0,0,0,0,0,0,0,0,0,0,0,0,0],\n",
        "              [0,0,0,0,0,0,0,0,0,0,0,0,0,0,0,0],[0,0,0,0,0,0,0,0,0,0,0,0,0,0,0,0],\n",
        "              [0,0,0,0,0,0,0,0,0,0,0,0,0,0,0,0],[0,0,0,0,0,0,0,0,0,0,0,0,0,0,0,0],\n",
        "              [0,0,0,0,0,0,0,0,0,0,0,0,0,0,0,0],[0,0,0,0,0,0,0,0,0,0,0,0,0,0,0,0],\n",
        "              [0,0,0,0,0,0,0,0,0,0,0,0,0,0,0,0],[0,0,0,0,0,0,0,0,0,0,0,0,0,0,0,0],\n",
        "              [0,0,0,0,0,0,0,0,0,0,0,0,0,0,0,0],[0,0,0,0,0,0,0,0,0,0,0,0,0,0,0,0],\n",
        "              [0,0,0,0,0,0,0,0,0,0,0,0,0,0,0,0],[0,0,0,0,0,0,0,0,0,0,0,0,0,0,0,0]]\n",
        "findSolution_N_Queen(chessboard, Queen_Number)"
      ],
      "execution_count": null,
      "outputs": [
        {
          "output_type": "stream",
          "text": [
            "[['X', 0, 0, 0, 0, 0, 0, 0, 0, 0, 0, 0, 0, 0, 0, 0], [0, 0, 0, 'X', 0, 0, 0, 0, 0, 0, 0, 0, 0, 0, 0, 0], [0, 'X', 0, 0, 0, 0, 0, 0, 0, 0, 0, 0, 0, 0, 0, 0], [0, 0, 0, 0, 0, 0, 0, 0, 0, 0, 0, 0, 'X', 0, 0, 0], [0, 0, 'X', 0, 0, 0, 0, 0, 0, 0, 0, 0, 0, 0, 0, 0], [0, 0, 0, 0, 0, 0, 0, 0, 0, 'X', 0, 0, 0, 0, 0, 0], [0, 0, 0, 0, 0, 0, 0, 0, 0, 0, 0, 'X', 0, 0, 0, 0], [0, 0, 0, 0, 0, 0, 0, 0, 0, 0, 0, 0, 0, 0, 'X', 0], [0, 0, 0, 0, 0, 'X', 0, 0, 0, 0, 0, 0, 0, 0, 0, 0], [0, 0, 0, 0, 0, 0, 0, 0, 0, 0, 0, 0, 0, 0, 0, 'X'], [0, 0, 0, 0, 0, 0, 0, 0, 0, 0, 0, 0, 0, 'X', 0, 0], [0, 0, 0, 0, 0, 0, 0, 'X', 0, 0, 0, 0, 0, 0, 0, 0], [0, 0, 0, 0, 'X', 0, 0, 0, 0, 0, 0, 0, 0, 0, 0, 0], [0, 0, 0, 0, 0, 0, 'X', 0, 0, 0, 0, 0, 0, 0, 0, 0], [0, 0, 0, 0, 0, 0, 0, 0, 'X', 0, 0, 0, 0, 0, 0, 0], [0, 0, 0, 0, 0, 0, 0, 0, 0, 0, 'X', 0, 0, 0, 0, 0]]\n"
          ],
          "name": "stdout"
        },
        {
          "output_type": "execute_result",
          "data": {
            "text/plain": [
              "True"
            ]
          },
          "metadata": {
            "tags": []
          },
          "execution_count": 11
        }
      ]
    },
    {
      "cell_type": "markdown",
      "metadata": {
        "id": "jTDvtS1Ri1Mv"
      },
      "source": [
        "# مقارنة بين الخوارزميات و قياس أدائها\n",
        "بالنسبة لعدد N من الملكات ، فإن التعقيد يساوي n عند استخدام AC-3 لأنه لا يوجد تكرار مع التراجع باستخدام نمط العودية ، فإن عدد التحقق داخل الحلقة يساوي n ^ 2.\n",
        "\n",
        "![image-2.png](attachment:image-2.png)"
      ]
    },
    {
      "cell_type": "markdown",
      "metadata": {
        "id": "uavf7bBIi1Mw"
      },
      "source": [
        "## المراجع و المصادر"
      ]
    },
    {
      "cell_type": "markdown",
      "metadata": {
        "id": "C-cjv9KSi1Mw"
      },
      "source": [
        "1. https://study.com/academy/lesson/constraint-satisfaction-problems-definition-examples.html\n",
        "2. https://en.wikipedia.org/wiki/Constraint_satisfaction_problem#:~:text=Constraint%20satisfaction%20problems%20(CSPs)%20are,number%20of%20constraints%20or%20limitations.&text=CSPs%20often%20exhibit%20high%20complexity,solved%20in%20a%20reasonable%20time.\n",
        "3. https://www.youtube.com/watch?v=lCrHYT_EhDs\n",
        "4. https://www.geeksforgeeks.org/n-queen-problem-backtracking-3/\n",
        "5. https://en.wikipedia.org/wiki/AC-3_algorithm\n",
        "6. https://www.sciencedirect.com/topics/computer-science/arc-consistency\n",
        "7. https://www.sciencedirect.com/topics/computer-science/arc-consistency-algorithm\n",
        "8. https://link.springer.com/article/10.1023/A:1011096320004\n",
        "9. https://github.com/BartekH/CSP\n",
        "10. https://www.youtube.com/watch?v=-47nFq_9_zk\n",
        "11. https://www.researchgate.net/figure/A-solution-of-the-6-queens-problem-As-an-example-let-us-consider-the-6-queens-problem_fig1_221787117"
      ]
    }
  ]
}